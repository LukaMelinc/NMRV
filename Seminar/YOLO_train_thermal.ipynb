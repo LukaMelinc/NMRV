{
 "cells": [
  {
   "cell_type": "code",
   "execution_count": null,
   "metadata": {
    "vscode": {
     "languageId": "plaintext"
    }
   },
   "outputs": [],
   "source": [
    "!git clone https://github.com/LukaMelinc/NMRV"
   ]
  },
  {
   "cell_type": "code",
   "execution_count": null,
   "metadata": {
    "vscode": {
     "languageId": "plaintext"
    }
   },
   "outputs": [],
   "source": [
    "from google.colab import drive\n",
    "drive.mount('/content/drive')\n"
   ]
  },
  {
   "cell_type": "code",
   "execution_count": null,
   "metadata": {
    "vscode": {
     "languageId": "plaintext"
    }
   },
   "outputs": [],
   "source": [
    "# Install necessary libraries\n",
    "!pip install ultralytics -q"
   ]
  },
  {
   "cell_type": "code",
   "execution_count": null,
   "metadata": {
    "vscode": {
     "languageId": "plaintext"
    }
   },
   "outputs": [],
   "source": [
    "from ultralytics import YOLO\n",
    "import torch\n",
    "import torch.optim as optim\n",
    "\n",
    "print(\"loading YOLOv11\")\n",
    "# Load the pre-trained YOLOv11 model\n",
    "model = YOLO('yolov8m.pt')\n",
    "\n",
    "print(\"loading YOLOv11 done\")\n",
    "\n",
    "model.train(\n",
    "        amp=False,\n",
    "        data=\"/content/NMRV/Seminar/data_thermal.yaml\",           # File za dataset\n",
    "        imgsz=736,                  # max. velikost ki jo zahtevamo\n",
    "        epochs=2,                 # Št. epoch\n",
    "        batch=2,                    # Velikost batcha\n",
    "        lr0 = 0.001,                # Initial learning rate\n",
    "        lrf=0.01,                   # Learning Rate Factor\n",
    "        cos_lr = False,             # linearno ali kosinusno zmanjšanje\n",
    "        patience=20,                # Early stop trigger\n",
    "        device=\"cuda\",              # Rabi GPU\n",
    "        project=\"yolo_ladica\",      # Directory za training loge\n",
    "        name=\"OvireNaVodi\",         # Sub-folder name\n",
    "        workers=1,                  # Št. corov za loadat podatke\n",
    "        show=True,                  # Prikaži rezultate\n",
    "        save=True,                  # Shrani naučene uteži\n",
    "\n",
    "        # Augmentacija\n",
    "        hsv_h=0.2,                  # Hue\n",
    "        hsv_s=0.2,                  # Saturation\n",
    "        hsv_v=0.2,                  # Brightnes\n",
    "        degrees=15,                 # Rotacija\n",
    "        translate=0.1,              # Translacija\n",
    "        scale=0.1,                  # Skaliranje\n",
    "        fliplr=0.5,                 # Flipanje horizontalno\n",
    "    )"
   ]
  },
  {
   "cell_type": "code",
   "execution_count": null,
   "metadata": {
    "vscode": {
     "languageId": "plaintext"
    }
   },
   "outputs": [],
   "source": [
    "# Test the model on the test dataset\n",
    "test_results = model.val(\n",
    "    data=\"/content/NMRV/Seminar/data_thermal.yaml\",  # Path to the dataset configuration file\n",
    "    imgsz=640,                  # Image size for evaluation\n",
    "    device=\"cuda\",              # Use GPU for evaluation\n",
    "    split='test'                # Specify the test split\n",
    ")\n",
    "\n",
    "def calculate_f1_score(precision, recall):\n",
    "    if precision + recall > 0:\n",
    "        return 2 * (precision * recall) / (precision + recall)\n",
    "    else:\n",
    "        return 0.0\n",
    "\n",
    "# Print the test results\n",
    "print(\"Test Results:\")\n",
    "print(test_results)\n",
    "\n",
    "# Extract precision and recall from results_dict\n",
    "results_dict = test_results.results_dict\n",
    "precision = results_dict.get('metrics/precision(B)', 0)\n",
    "recall = results_dict.get('metrics/recall(B)', 0)\n",
    "\n",
    "# Calculate F1 score\n",
    "f1_score = calculate_f1_score(precision, recall)\n",
    "\n",
    "# Print the F1 score\n",
    "print(f\"F1 Score: {f1_score:.4f}\")\n"
   ]
  }
 ],
 "metadata": {
  "language_info": {
   "name": "python"
  }
 },
 "nbformat": 4,
 "nbformat_minor": 2
}
