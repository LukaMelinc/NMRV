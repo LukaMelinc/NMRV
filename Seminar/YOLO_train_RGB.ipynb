{
 "cells": [
  {
   "cell_type": "code",
   "execution_count": null,
   "metadata": {
    "vscode": {
     "languageId": "plaintext"
    }
   },
   "outputs": [],
   "source": [
    "!git clone https://github.com/LukaMelinc/NMRV"
   ]
  },
  {
   "cell_type": "code",
   "execution_count": null,
   "metadata": {
    "vscode": {
     "languageId": "plaintext"
    }
   },
   "outputs": [],
   "source": [
    "from google.colab import drive\n",
    "drive.mount('/content/drive')"
   ]
  },
  {
   "cell_type": "code",
   "execution_count": null,
   "metadata": {
    "vscode": {
     "languageId": "plaintext"
    }
   },
   "outputs": [],
   "source": [
    "# Install necessary libraries\n",
    "!pip install albumentations segmentation-models-pytorch ultralytics -q"
   ]
  },
  {
   "cell_type": "code",
   "execution_count": null,
   "metadata": {
    "vscode": {
     "languageId": "plaintext"
    }
   },
   "outputs": [],
   "source": [
    "from ultralytics import YOLO\n",
    "import torch\n",
    "import torch.optim as optim\n",
    "\n",
    "print(\"loading YOLOv11\")\n",
    "# Load the pre-trained YOLOv11 model\n",
    "model = YOLO('yolov8m.pt')\n",
    "\n",
    "print(\"loading YOLOv11 done\")\n",
    "# Set the model to training mode\n",
    "model.trainable = True\n",
    "\n",
    "\"\"\"for name, param in model.model.named_parameters():\n",
    "    if 'head' not in name:\n",
    "        param.requires_grad = False\"\"\"\n",
    "\n",
    "print(\"training model\")\n",
    "\n",
    "# Define the optimizer and learning rate scheduler\n",
    "optimizer = optim.Adam(model.parameters(), lr=0.001)\n",
    "scheduler = optim.lr_scheduler.ReduceLROnPlateau(optimizer, mode='min', factor=0.1, patience=5, verbose=True)\n",
    "\n",
    "# Early stopping parameters\n",
    "patience = 10\n",
    "best_val_loss = float('inf')\n",
    "epochs_without_improvement = 0\n",
    "\n",
    "# Train the model with your custom dataset and data augmentation\n",
    "model.train(\n",
    "    data='/content/NMRV/Seminar/data_RGB.yaml',\n",
    "    epochs=50,\n",
    "    imgsz=640,\n",
    "    batch=32,\n",
    "    device=\"cuda\",  # Use GPU if available, set to 'cpu' if no GPU\n",
    "    augment=True,  # Enable data augmentation\n",
    "    hsv_h=0.015,  # Hue augmentation\n",
    "    hsv_s=0.7,    # Saturation augmentation\n",
    "    hsv_v=0.4,    # Value augmentation\n",
    "    degrees=0.0,  # Rotation degrees\n",
    "    translate=0.1,  # Translation fraction\n",
    "    scale=0.5,    # Scaling fraction\n",
    "    shear=0.0,    # Shear fraction\n",
    "    perspective=0.0,  # Perspective fraction\n",
    "    flipud=0.0,   # Vertical flip probability\n",
    "    fliplr=0.5,   # Horizontal flip probability\n",
    "    mosaic=1.0,   # Mosaic data augmentation probability\n",
    "    mixup=0.0     # Mixup data augmentation probability\n",
    ")\n",
    "\n",
    "# Save the trained model weights\n",
    "model_save_path = '/content/drive/MyDrive/models'\n",
    "\n",
    "# Training loop with early stopping and learning rate scheduler\n",
    "for epoch in range(50):\n",
    "    # Train the model for one epoch\n",
    "    model.train(data='/content/NMRV/Seminar/data_RGB.yaml', epochs=1, imgsz=640, batch=32, device=\"cuda\")\n",
    "\n",
    "    # Validate the model\n",
    "    val_loss = model.val(data='/content/NMRV/Seminar/data_RGB.yaml', imgsz=640, batch=32, device=\"cuda\")\n",
    "\n",
    "    # Update the learning rate scheduler\n",
    "    scheduler.step(val_loss)\n",
    "\n",
    "    # Check for early stopping\n",
    "    if val_loss < best_val_loss:\n",
    "        best_val_loss = val_loss\n",
    "        epochs_without_improvement = 0\n",
    "        model.save(model_save_path)\n",
    "        print(f\"Model saved to {model_save_path}\")\n",
    "    else:\n",
    "        epochs_without_improvement += 1\n",
    "        if epochs_without_improvement >= patience:\n",
    "            print(\"Early stopping triggered\")\n",
    "            break\n",
    "\n",
    "print(f\"Training completed. Best validation loss: {best_val_loss}\")\n"
   ]
  }
 ],
 "metadata": {
  "language_info": {
   "name": "python"
  }
 },
 "nbformat": 4,
 "nbformat_minor": 2
}
